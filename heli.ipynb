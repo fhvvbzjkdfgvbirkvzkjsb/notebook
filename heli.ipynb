{
 "cells": [
  {
   "cell_type": "code",
   "execution_count": 5,
   "id": "db267b38-9511-4ac6-afef-49f2701effa9",
   "metadata": {},
   "outputs": [],
   "source": [
    "import numpy as np"
   ]
  },
  {
   "cell_type": "code",
   "execution_count": 6,
   "id": "65e4a2bd-395c-49d8-92bd-66d4d3cff085",
   "metadata": {},
   "outputs": [],
   "source": [
    "arr=np.array([[[1,2,3],[4,5,6]],[[1,2,3],[4,5,6]]])"
   ]
  },
  {
   "cell_type": "code",
   "execution_count": 7,
   "id": "84655c14-17f0-4699-90dd-52f84365cc3e",
   "metadata": {},
   "outputs": [
    {
     "data": {
      "text/plain": [
       "array([[[1, 2, 3],\n",
       "        [4, 5, 6]],\n",
       "\n",
       "       [[1, 2, 3],\n",
       "        [4, 5, 6]]])"
      ]
     },
     "execution_count": 7,
     "metadata": {},
     "output_type": "execute_result"
    }
   ],
   "source": [
    "arr"
   ]
  },
  {
   "cell_type": "code",
   "execution_count": 8,
   "id": "71500cff-5137-403e-b7a2-8c179554e3da",
   "metadata": {},
   "outputs": [
    {
     "name": "stdout",
     "output_type": "stream",
     "text": [
      "3\n"
     ]
    }
   ],
   "source": [
    "print(arr.ndim)"
   ]
  },
  {
   "cell_type": "code",
   "execution_count": 9,
   "id": "3788a47f-fc9d-42d4-8bd2-ce09ef1f9b6f",
   "metadata": {},
   "outputs": [
    {
     "name": "stdout",
     "output_type": "stream",
     "text": [
      "[[1 2 3]\n",
      " [4 5 6]]\n"
     ]
    }
   ],
   "source": [
    "print(arr[1])"
   ]
  },
  {
   "cell_type": "code",
   "execution_count": 10,
   "id": "e96ed3dd-a0f3-4f36-b08f-1dca06119a29",
   "metadata": {},
   "outputs": [
    {
     "name": "stdout",
     "output_type": "stream",
     "text": [
      "[4 5 6]\n"
     ]
    }
   ],
   "source": [
    "print(arr[0,1])"
   ]
  },
  {
   "cell_type": "code",
   "execution_count": 11,
   "id": "9ff1308f-8d9f-41de-b38e-db75d9dddfe3",
   "metadata": {},
   "outputs": [],
   "source": [
    "ar = np.array([[[1, 2, 3], [4, 5, 6]], [[7, 8, 9], [10, 11, 12]]])"
   ]
  },
  {
   "cell_type": "code",
   "execution_count": 12,
   "id": "5831386f-1be6-47bc-b998-3ed6e664a37c",
   "metadata": {},
   "outputs": [
    {
     "data": {
      "text/plain": [
       "array([[[ 1,  2,  3],\n",
       "        [ 4,  5,  6]],\n",
       "\n",
       "       [[ 7,  8,  9],\n",
       "        [10, 11, 12]]])"
      ]
     },
     "execution_count": 12,
     "metadata": {},
     "output_type": "execute_result"
    }
   ],
   "source": [
    "ar"
   ]
  },
  {
   "cell_type": "code",
   "execution_count": 13,
   "id": "0f9624d9-8c99-4e93-81d7-a5192a8c3029",
   "metadata": {},
   "outputs": [
    {
     "data": {
      "text/plain": [
       "6"
      ]
     },
     "execution_count": 13,
     "metadata": {},
     "output_type": "execute_result"
    }
   ],
   "source": [
    "ar[0,1,2]"
   ]
  },
  {
   "cell_type": "code",
   "execution_count": 14,
   "id": "cde6b1bd-2666-413c-bc28-7f06e9c4d017",
   "metadata": {},
   "outputs": [],
   "source": [
    "ar1 = np.array([[1,2,3,4,5], [6,7,8,9,10]])"
   ]
  },
  {
   "cell_type": "code",
   "execution_count": 15,
   "id": "a457b167-b875-42e9-a7ea-8a8a3e4513c0",
   "metadata": {},
   "outputs": [
    {
     "data": {
      "text/plain": [
       "array([[ 1,  2,  3,  4,  5],\n",
       "       [ 6,  7,  8,  9, 10]])"
      ]
     },
     "execution_count": 15,
     "metadata": {},
     "output_type": "execute_result"
    }
   ],
   "source": [
    "ar1"
   ]
  },
  {
   "cell_type": "code",
   "execution_count": 16,
   "id": "695f9778-e4c4-4912-b4c8-9a092c7e2047",
   "metadata": {},
   "outputs": [
    {
     "data": {
      "text/plain": [
       "array([[ 1,  2,  3,  4,  5],\n",
       "       [ 6,  7,  8,  9, 10]])"
      ]
     },
     "execution_count": 16,
     "metadata": {},
     "output_type": "execute_result"
    }
   ],
   "source": [
    "ar1[:4]"
   ]
  },
  {
   "cell_type": "code",
   "execution_count": 17,
   "id": "60532768-682b-4093-9e72-65dbc62c3368",
   "metadata": {},
   "outputs": [],
   "source": [
    "a=np.array([1,2,3,4,5])"
   ]
  },
  {
   "cell_type": "code",
   "execution_count": 18,
   "id": "be2a66f8-6df4-46c4-8787-c29f8586128f",
   "metadata": {},
   "outputs": [],
   "source": [
    "x=a.copy()"
   ]
  },
  {
   "cell_type": "code",
   "execution_count": 19,
   "id": "331c8d41-4d19-4ef0-b2f2-fba550c347b6",
   "metadata": {},
   "outputs": [
    {
     "data": {
      "text/plain": [
       "array([1, 2, 3, 4, 5])"
      ]
     },
     "execution_count": 19,
     "metadata": {},
     "output_type": "execute_result"
    }
   ],
   "source": [
    "x"
   ]
  },
  {
   "cell_type": "code",
   "execution_count": 20,
   "id": "147648fa-7cef-4ad8-80ed-42d590d58043",
   "metadata": {},
   "outputs": [],
   "source": [
    "y=a.view()"
   ]
  },
  {
   "cell_type": "code",
   "execution_count": 21,
   "id": "e12e3695-b7de-4fe6-9e33-2bd5971c1317",
   "metadata": {},
   "outputs": [
    {
     "data": {
      "text/plain": [
       "array([1, 2, 3, 4, 5])"
      ]
     },
     "execution_count": 21,
     "metadata": {},
     "output_type": "execute_result"
    }
   ],
   "source": [
    "y"
   ]
  },
  {
   "cell_type": "code",
   "execution_count": 22,
   "id": "6ceecfc0-1ad4-41ca-b6b0-2f2d29d86f03",
   "metadata": {},
   "outputs": [
    {
     "name": "stdout",
     "output_type": "stream",
     "text": [
      "None\n"
     ]
    }
   ],
   "source": [
    "print(x.base)"
   ]
  },
  {
   "cell_type": "code",
   "execution_count": 23,
   "id": "3932c528-5fe3-4082-b793-abb0b5e8619a",
   "metadata": {},
   "outputs": [
    {
     "name": "stdout",
     "output_type": "stream",
     "text": [
      "[1 2 3 4 5]\n"
     ]
    }
   ],
   "source": [
    "print(y.base)"
   ]
  },
  {
   "cell_type": "code",
   "execution_count": 24,
   "id": "165fa1a6-3da1-40c4-a5d1-a90235edb928",
   "metadata": {},
   "outputs": [
    {
     "name": "stdout",
     "output_type": "stream",
     "text": [
      "(5,)\n"
     ]
    }
   ],
   "source": [
    "print(a.shape)"
   ]
  },
  {
   "cell_type": "code",
   "execution_count": 25,
   "id": "59148546-f48b-46af-b7f3-bea964dfd93f",
   "metadata": {},
   "outputs": [],
   "source": [
    "k=np.array([1,2,3,4,5,6,7,8,9,10,11,12])"
   ]
  },
  {
   "cell_type": "code",
   "execution_count": 26,
   "id": "0da75025-856d-46ff-92b7-794713151dd6",
   "metadata": {},
   "outputs": [],
   "source": [
    "l=k.reshape(4,3)"
   ]
  },
  {
   "cell_type": "code",
   "execution_count": 27,
   "id": "d217a56a-6cc6-41a8-a3ba-e8267483eeb0",
   "metadata": {},
   "outputs": [
    {
     "data": {
      "text/plain": [
       "array([[ 1,  2,  3],\n",
       "       [ 4,  5,  6],\n",
       "       [ 7,  8,  9],\n",
       "       [10, 11, 12]])"
      ]
     },
     "execution_count": 27,
     "metadata": {},
     "output_type": "execute_result"
    }
   ],
   "source": [
    "l"
   ]
  },
  {
   "cell_type": "code",
   "execution_count": 28,
   "id": "ad3eb816-b512-4c08-addb-2dfa1530cd30",
   "metadata": {},
   "outputs": [
    {
     "name": "stdout",
     "output_type": "stream",
     "text": [
      "1\n",
      "2\n",
      "3\n",
      "4\n",
      "5\n",
      "6\n",
      "7\n",
      "8\n",
      "9\n",
      "10\n",
      "11\n",
      "12\n"
     ]
    }
   ],
   "source": [
    "for x in k:\n",
    "    print(x)"
   ]
  },
  {
   "cell_type": "code",
   "execution_count": 29,
   "id": "5ed82dea-7a5c-4892-96dc-ae1ca8f350cd",
   "metadata": {},
   "outputs": [
    {
     "name": "stdout",
     "output_type": "stream",
     "text": [
      "[1 2 3]\n",
      "[4 5 6]\n",
      "[7 8 9]\n",
      "[10 11 12]\n"
     ]
    }
   ],
   "source": [
    "for x in l:\n",
    "    print(x)"
   ]
  },
  {
   "cell_type": "code",
   "execution_count": 30,
   "id": "36f89665-0c81-4ef3-ae1a-b2698baa7139",
   "metadata": {},
   "outputs": [
    {
     "name": "stdout",
     "output_type": "stream",
     "text": [
      "[1 2 3]\n",
      "[4 5 6]\n"
     ]
    }
   ],
   "source": [
    "m = np.array([[1, 2, 3], [4, 5, 6]])\n",
    "for x in m:\n",
    "    print(x)"
   ]
  },
  {
   "cell_type": "code",
   "execution_count": 31,
   "id": "9e99a692-1c85-4d9d-814b-ccce33d6dbed",
   "metadata": {},
   "outputs": [
    {
     "name": "stdout",
     "output_type": "stream",
     "text": [
      "1\n",
      "2\n",
      "3\n",
      "4\n",
      "5\n",
      "6\n"
     ]
    }
   ],
   "source": [
    "m= np.array([[1, 2, 3], [4, 5, 6]])\n",
    "for x in m:\n",
    "    for y in x:\n",
    "        print(y)\n",
    "    "
   ]
  },
  {
   "cell_type": "code",
   "execution_count": 32,
   "id": "ac5a56db-c386-4477-b81b-40215ef1dc60",
   "metadata": {},
   "outputs": [],
   "source": [
    "o = np.array([[[1, 2, 3], [4, 5, 6]], [[7, 8, 9], [10, 11, 12]]])"
   ]
  },
  {
   "cell_type": "code",
   "execution_count": 33,
   "id": "0d51523b-e655-4231-a981-714bd37e1ede",
   "metadata": {},
   "outputs": [
    {
     "name": "stdout",
     "output_type": "stream",
     "text": [
      "1\n",
      "2\n",
      "3\n",
      "4\n",
      "5\n",
      "6\n",
      "7\n",
      "8\n",
      "9\n",
      "10\n",
      "11\n",
      "12\n"
     ]
    }
   ],
   "source": [
    "for x in o:\n",
    "    for y in x:\n",
    "        for z in y:\n",
    "            print(z)"
   ]
  },
  {
   "cell_type": "code",
   "execution_count": 34,
   "id": "6ee47b78-7acb-4e53-b424-f2bba4a26db8",
   "metadata": {},
   "outputs": [
    {
     "name": "stdout",
     "output_type": "stream",
     "text": [
      "1\n",
      "2\n",
      "3\n",
      "4\n",
      "5\n",
      "6\n",
      "7\n",
      "8\n",
      "9\n",
      "10\n",
      "11\n",
      "12\n"
     ]
    }
   ],
   "source": [
    "for x in np.nditer(o):\n",
    "    print(x)"
   ]
  },
  {
   "cell_type": "code",
   "execution_count": 35,
   "id": "3b73a0bd-ae7b-441a-9878-dc43a02c989c",
   "metadata": {},
   "outputs": [],
   "source": [
    "s=np.array([1,2,3])"
   ]
  },
  {
   "cell_type": "code",
   "execution_count": 36,
   "id": "b6b0d1de-032f-4f5b-a0c7-37cc3a520206",
   "metadata": {},
   "outputs": [
    {
     "name": "stdout",
     "output_type": "stream",
     "text": [
      "b'1'\n",
      "b'2'\n",
      "b'3'\n"
     ]
    }
   ],
   "source": [
    "for x in np.nditer(s,flags=['buffered'],op_dtypes=['S']):\n",
    "    print(x)"
   ]
  },
  {
   "cell_type": "code",
   "execution_count": 37,
   "id": "2a8dd384-6a0f-4e81-8e80-cee98fdce409",
   "metadata": {},
   "outputs": [
    {
     "name": "stdout",
     "output_type": "stream",
     "text": [
      "1\n",
      "3\n",
      "5\n",
      "7\n"
     ]
    }
   ],
   "source": [
    "t = np.array([[1, 2, 3, 4], [5, 6, 7, 8]])\n",
    "for x in np.nditer(t[:, ::2]):\n",
    "    print(x)"
   ]
  },
  {
   "cell_type": "code",
   "execution_count": 38,
   "id": "aa36eba8-a30e-4ac8-91ea-c7529d532b6c",
   "metadata": {},
   "outputs": [
    {
     "name": "stdout",
     "output_type": "stream",
     "text": [
      "(0, 0) 1\n",
      "(0, 1) 2\n",
      "(0, 2) 3\n",
      "(0, 3) 4\n",
      "(1, 0) 5\n",
      "(1, 1) 6\n",
      "(1, 2) 7\n",
      "(1, 3) 8\n"
     ]
    }
   ],
   "source": [
    "arr2 = np.array([[1, 2, 3, 4], [5, 6, 7, 8]])\n",
    "for idx, x in np.ndenumerate(arr2):\n",
    "    print(idx, x)"
   ]
  },
  {
   "cell_type": "code",
   "execution_count": 39,
   "id": "afe2c6a0-09a7-48da-b7fc-a944ca830d2d",
   "metadata": {},
   "outputs": [
    {
     "name": "stdout",
     "output_type": "stream",
     "text": [
      "[[[1 5]\n",
      "  [2 6]]\n",
      "\n",
      " [[3 7]\n",
      "  [4 8]]]\n"
     ]
    }
   ],
   "source": [
    "arr1 = np.array([[1, 2], [3, 4]])\n",
    "arr2 = np.array([[5, 6], [7, 8]])\n",
    "arr = np.dstack((arr1, arr2))\n",
    "print(arr)"
   ]
  },
  {
   "cell_type": "code",
   "execution_count": 40,
   "id": "63cdb80d-dd0b-4345-82ba-607f612435bc",
   "metadata": {},
   "outputs": [
    {
     "ename": "NameError",
     "evalue": "name 'arr0' is not defined",
     "output_type": "error",
     "traceback": [
      "\u001b[1;31m---------------------------------------------------------------------------\u001b[0m",
      "\u001b[1;31mNameError\u001b[0m                                 Traceback (most recent call last)",
      "Cell \u001b[1;32mIn[40], line 1\u001b[0m\n\u001b[1;32m----> 1\u001b[0m \u001b[43marr0\u001b[49m\n",
      "\u001b[1;31mNameError\u001b[0m: name 'arr0' is not defined"
     ]
    }
   ],
   "source": [
    "arr0"
   ]
  },
  {
   "cell_type": "code",
   "execution_count": null,
   "id": "aabb53cd-1942-423c-92a3-7880c01c5c62",
   "metadata": {},
   "outputs": [],
   "source": [
    "arr1 = np.array([1, 2, 3])\n",
    "arr2 = np.array([4, 5, 6])\n",
    "arr = np.dstack((arr1, arr2),axis=1)\n",
    "print(arr)"
   ]
  },
  {
   "cell_type": "code",
   "execution_count": null,
   "id": "e460d292-1fbb-41d5-8243-5a77812e2c4a",
   "metadata": {},
   "outputs": [],
   "source": [
    "arr = np.array([1, 2, 3, 4, 5, 6])\n",
    "newarr = np.array_split(arr, 4)\n",
    "print(newarr)"
   ]
  },
  {
   "cell_type": "code",
   "execution_count": null,
   "id": "dd952215-8de9-46cb-a165-a1158389dd68",
   "metadata": {},
   "outputs": [],
   "source": [
    "arr = np.array([[1, 2, 3], [4, 5, 6], [7, 8, 9],\n",
    "[10, 11, 12], [13, 14, 15], [16, 17, 18]])\n",
    "newarr = np.array_split(arr, 3)\n",
    "print(newarr)"
   ]
  },
  {
   "cell_type": "code",
   "execution_count": null,
   "id": "59ba76f2-aea0-455b-be61-8222798d5491",
   "metadata": {},
   "outputs": [],
   "source": [
    "arr = np.array([[1, 2, 3], [4, 5, 6], [7, 8, 9], [10, 11, 12], [13, 14, 15],\n",
    "[16, 17, 18]])\n",
    "newarr = np.array_split(arr, 3, axis=1)\n",
    "print(newarr)"
   ]
  },
  {
   "cell_type": "code",
   "execution_count": null,
   "id": "9891999e-6df7-4bba-86a4-bf7e3299d15d",
   "metadata": {},
   "outputs": [],
   "source": [
    "arr = np.array([[1, 2, 3], [4, 5, 6], [7, 8, 9], [10, 11, 12], [13, 14, 15],\n",
    "[16, 17, 18]])\n",
    "newarr = np.hsplit(arr, 3)\n",
    "print(newarr)"
   ]
  },
  {
   "cell_type": "code",
   "execution_count": null,
   "id": "4b5cb3e6-6707-4c61-8a59-1e11e7fbfca9",
   "metadata": {},
   "outputs": [],
   "source": [
    "arr = np.array([1, 2, 3, 4, 5, 4, 4])\n",
    "x = np.where(arr == 4)\n",
    "print(x)"
   ]
  },
  {
   "cell_type": "code",
   "execution_count": null,
   "id": "67ad5f43-201d-4c79-8b23-c3801419cfc1",
   "metadata": {},
   "outputs": [],
   "source": [
    "\n",
    "arr = np.array([1, 2, 3, 4, 5, 6, 7, 8])\n",
    "x = np.where(arr%2 == 0)\n",
    "print(x)"
   ]
  },
  {
   "cell_type": "code",
   "execution_count": null,
   "id": "9333780d-3ae1-4c50-b860-584048e9e060",
   "metadata": {},
   "outputs": [],
   "source": [
    "arr = np.array([1, 2, 3, 4, 5, 6, 7, 8])\n",
    "x = np.where(arr%2 == 1)\n",
    "print(x)"
   ]
  },
  {
   "cell_type": "code",
   "execution_count": null,
   "id": "bb16a568-d12c-4865-90ec-792157adac78",
   "metadata": {},
   "outputs": [],
   "source": [
    "arr = np.array([6, 7, 8, 9])\n",
    "x = np.searchsorted(arr, 7)\n",
    "print(x)"
   ]
  },
  {
   "cell_type": "code",
   "execution_count": null,
   "id": "7ea066c5-440b-43fb-9f10-99217bbaa055",
   "metadata": {},
   "outputs": [],
   "source": [
    "arr = np.array([6, 7, 8, 9])\n",
    "x = np.searchsorted(arr, 7, side='right')\n",
    "print(x)"
   ]
  },
  {
   "cell_type": "code",
   "execution_count": null,
   "id": "b1318349-e206-4ac5-b8a7-f4a62aefa2eb",
   "metadata": {},
   "outputs": [],
   "source": [
    "arr = np.array([1, 3, 5, 7])\n",
    "x = np.searchsorted(arr, [2, 4, 6])\n",
    "print(x)"
   ]
  },
  {
   "cell_type": "code",
   "execution_count": null,
   "id": "6e0f427d-4a11-4022-ba5c-fde7683f5fce",
   "metadata": {},
   "outputs": [],
   "source": [
    "arr = np.array([3, 2, 0, 1])\n",
    "print(np.sort(arr))"
   ]
  },
  {
   "cell_type": "code",
   "execution_count": null,
   "id": "9b088b46-d35f-46af-89c9-9dc82dc8cee7",
   "metadata": {},
   "outputs": [],
   "source": [
    "arr =np.array(['banana', 'cherry', 'apple'])\n",
    "print(np.sort(arr))"
   ]
  },
  {
   "cell_type": "code",
   "execution_count": null,
   "id": "4f6343c9-5ffb-4551-821f-7aa944695bd9",
   "metadata": {},
   "outputs": [],
   "source": [
    "arr = np.array([True, False, True])\n",
    "print(np.sort(arr))"
   ]
  },
  {
   "cell_type": "code",
   "execution_count": null,
   "id": "52ffb455-bce8-48c0-b00d-f51c98cdb30a",
   "metadata": {},
   "outputs": [],
   "source": [
    "arr = np.array([[3, 2, 4], [5, 0, 1]])\n",
    "print(np.sort(arr))"
   ]
  },
  {
   "cell_type": "code",
   "execution_count": null,
   "id": "08ac9e9f-4a86-4e7b-9afc-f774501fbd79",
   "metadata": {},
   "outputs": [],
   "source": [
    "arr = np.array([41, 42, 43, 44])\n",
    "x = [True, False, True, False]\n",
    "newarr = arr[x]\n",
    "print(newarr)"
   ]
  },
  {
   "cell_type": "code",
   "execution_count": null,
   "id": "ba054e0b-0a11-4eb0-b87a-ad4695456b48",
   "metadata": {},
   "outputs": [],
   "source": [
    "print(\"hello\")"
   ]
  },
  {
   "cell_type": "code",
   "execution_count": 42,
   "id": "3ee48056-e528-42e7-abc7-529e52a0e99f",
   "metadata": {},
   "outputs": [
    {
     "name": "stdout",
     "output_type": "stream",
     "text": [
      "[False, False, True, True]\n",
      "[43 44]\n"
     ]
    }
   ],
   "source": [
    "arr = np.array([41, 42, 43, 44])\n",
    "filter_arr = []\n",
    "for element in arr:\n",
    "     if element > 42:\n",
    "        filter_arr.append(True)\n",
    "     else:\n",
    "        filter_arr.append(False)\n",
    "newarr = arr[filter_arr]\n",
    "print(filter_arr)\n",
    "print(newarr)   "
   ]
  },
  {
   "cell_type": "code",
   "execution_count": 43,
   "id": "0b559260-0416-415d-a4d5-87b6e533523f",
   "metadata": {},
   "outputs": [
    {
     "name": "stdout",
     "output_type": "stream",
     "text": [
      "[('Sana', 2, 21.) ('Mansi', 7, 29.)]\n"
     ]
    }
   ],
   "source": [
    "dt= np.dtype([('name', (np.str_, 10)), ('age',np.int32), ('weight', np.float64)])\n",
    "a = np.array([('Sana', 2, 21.0), ('Mansi', 7, 29.0)],\n",
    "dtype=dt)\n",
    "print(a)"
   ]
  },
  {
   "cell_type": "code",
   "execution_count": 44,
   "id": "d9496ebb-f420-4879-99e5-e8941bcc1003",
   "metadata": {},
   "outputs": [
    {
     "name": "stdout",
     "output_type": "stream",
     "text": [
      "Sorting according to the name [('Mansi', 7, 29.) ('Sana', 2, 21.)]\n"
     ]
    }
   ],
   "source": [
    "b = np.sort(a, order='name')\n",
    "\n",
    "print('Sorting according to the name', b)"
   ]
  },
  {
   "cell_type": "code",
   "execution_count": 45,
   "id": "f3b1ad12-c9a5-4788-bb23-7dd6528f1058",
   "metadata": {},
   "outputs": [
    {
     "name": "stdout",
     "output_type": "stream",
     "text": [
      "\n",
      "Sorting according to the age [('Sana', 2, 21.) ('Mansi', 7, 29.)]\n"
     ]
    }
   ],
   "source": [
    "b = np.sort(a, order='age')\n",
    "\n",
    "print('\\nSorting according to the age', b)"
   ]
  },
  {
   "cell_type": "code",
   "execution_count": 46,
   "id": "641db366-5d8c-454c-a6eb-dbe81542499f",
   "metadata": {},
   "outputs": [
    {
     "name": "stdout",
     "output_type": "stream",
     "text": [
      "Max age =  7\n",
      "Min age =  2\n"
     ]
    }
   ],
   "source": [
    "max_age = np.max(a['age'])\n",
    "min_age = np.min(a['age'])\n",
    "print(\"Max age = \",max_age)\n",
    "print(\"Min age = \", min_age)"
   ]
  },
  {
   "cell_type": "code",
   "execution_count": 48,
   "id": "2abe7f73-7169-4113-b68b-542393349728",
   "metadata": {},
   "outputs": [],
   "source": [
    "b = np.array([('Ayushi', 5, 30.0)], dtype=a.dtype)\n",
    "c = np.concatenate((a, b))"
   ]
  },
  {
   "cell_type": "code",
   "execution_count": 49,
   "id": "21106f1c-10c3-42a2-bd91-eff15bb09fbf",
   "metadata": {},
   "outputs": [
    {
     "name": "stdout",
     "output_type": "stream",
     "text": [
      "[('Sana', 2, 21.) ('Mansi', 7, 29.) ('Ayushi', 5, 30.)]\n"
     ]
    }
   ],
   "source": [
    "print(c)"
   ]
  },
  {
   "cell_type": "code",
   "execution_count": 50,
   "id": "0f29c9bc-5e85-4d4f-8a9e-eb9d43199340",
   "metadata": {},
   "outputs": [
    {
     "name": "stdout",
     "output_type": "stream",
     "text": [
      "[[('Sana', 2, 21.)]\n",
      " [('Mansi', 7, 29.)]]\n"
     ]
    }
   ],
   "source": [
    "a = np.array([('Sana', 2, 21.0), ('Mansi', 7, 29.0)],\n",
    "dtype=[('name', (np.str_, 10)), ('age', np.int32),\n",
    "('weight', np.float64)])\n",
    "reshaped_a = np.reshape(a, (2, 1))\n",
    "print(reshaped_a)"
   ]
  },
  {
   "cell_type": "code",
   "execution_count": 51,
   "id": "f7c652cb-6bd3-4ab4-a1e9-66518d082bab",
   "metadata": {},
   "outputs": [
    {
     "name": "stdout",
     "output_type": "stream",
     "text": [
      "[2 3 6 8]\n"
     ]
    }
   ],
   "source": [
    "array1 = np.array([1, 2, 3, 4, 5, 6, 7, 8])\n",
    "select_elements = array1[[1, 2, 5, 7]]\n",
    "print(select_elements)"
   ]
  },
  {
   "cell_type": "code",
   "execution_count": 52,
   "id": "d4a394eb-484d-4747-9c73-34a6bc338b28",
   "metadata": {},
   "outputs": [
    {
     "name": "stdout",
     "output_type": "stream",
     "text": [
      "Simple Indexing: 4\n",
      "Fancy Indexing: [2 3 6 8]\n"
     ]
    }
   ],
   "source": [
    "simple_indexing = array1[3]\n",
    "print(\"Simple Indexing:\",simple_indexing) # 4\n",
    "# select multiple elements\n",
    "fancy_indexing = array1[[1, 2, 5, 7]]\n",
    "print(\"Fancy Indexing:\",fancy_indexing)"
   ]
  },
  {
   "cell_type": "code",
   "execution_count": 56,
   "id": "454d8896-bec7-4a35-97b7-1c7b0dedc46a",
   "metadata": {},
   "outputs": [
    {
     "name": "stdout",
     "output_type": "stream",
     "text": [
      "[1 2 3 4 5 6 7 8]\n"
     ]
    }
   ],
   "source": [
    "array1 = np.array([3, 2, 6, 1, 8, 5, 7, 4])\n",
    "sorted_array = array1[np.argsort(array1)]\n",
    "print(sorted_array)"
   ]
  },
  {
   "cell_type": "code",
   "execution_count": 57,
   "id": "ff5e984f-ed00-4706-85ad-045cb51c1036",
   "metadata": {},
   "outputs": [
    {
     "name": "stdout",
     "output_type": "stream",
     "text": [
      "[ 3 10  6 20  8  5 30  4]\n"
     ]
    }
   ],
   "source": [
    "array1 = np.array([3, 2, 6, 1, 8, 5, 7, 4])\n",
    "# create a list of indices to assign new values\n",
    "indices = [1, 3, 6]\n",
    "# create a new array of values to assign\n",
    "new_values = [10, 20, 30]\n",
    "# use fancy indexing to assign new values to specific elements\n",
    "array1[indices] = new_values\n",
    "print(array1)"
   ]
  },
  {
   "cell_type": "code",
   "execution_count": 58,
   "id": "0b74a086-ef8a-4366-8d60-a0053c6fb5e0",
   "metadata": {},
   "outputs": [
    {
     "name": "stdout",
     "output_type": "stream",
     "text": [
      "[[ 1  3  5]\n",
      " [13 18 29]]\n"
     ]
    }
   ],
   "source": [
    "array1 = np.array([[1, 3, 5], [11, 7, 9], [13, 18, 29]])\n",
    "# create an array of row indices\n",
    "row_indices = np.array([0, 2])\n",
    "# use fancy indexing to select specific rows\n",
    "selected_rows = array1[row_indices, :]\n",
    "print(selected_rows)"
   ]
  },
  {
   "cell_type": "code",
   "execution_count": 59,
   "id": "0f97303b-7b48-4f55-add2-2248d1edce88",
   "metadata": {},
   "outputs": [],
   "source": [
    "import random"
   ]
  },
  {
   "cell_type": "code",
   "execution_count": 60,
   "id": "47544485-3a0e-43be-990c-4f3a34490223",
   "metadata": {},
   "outputs": [
    {
     "name": "stdout",
     "output_type": "stream",
     "text": [
      "6\n"
     ]
    }
   ],
   "source": [
    "random_number = np.random.randint(0, 10)\n",
    "print(random_number)"
   ]
  },
  {
   "cell_type": "code",
   "execution_count": 61,
   "id": "27e28e8b-1015-426c-8a80-137581054af5",
   "metadata": {},
   "outputs": [
    {
     "name": "stdout",
     "output_type": "stream",
     "text": [
      "0.9745490072221238\n"
     ]
    }
   ],
   "source": [
    "random_number = np.random.rand()\n",
    "\n",
    "print(random_number)"
   ]
  },
  {
   "cell_type": "code",
   "execution_count": 62,
   "id": "f49a7904-8d4a-4613-9956-30480c03c64b",
   "metadata": {},
   "outputs": [
    {
     "name": "stdout",
     "output_type": "stream",
     "text": [
      "1D Random Integer Array:\n",
      " [4 9 2 1 4]\n"
     ]
    }
   ],
   "source": [
    "integer_array = np.random.randint(0, 10, 5)\n",
    "\n",
    "print(\"1D Random Integer Array:\\n\",integer_array)"
   ]
  },
  {
   "cell_type": "code",
   "execution_count": 63,
   "id": "ad678cc9-ca3f-43a9-97e3-a4d4be3c9e68",
   "metadata": {},
   "outputs": [
    {
     "name": "stdout",
     "output_type": "stream",
     "text": [
      "\n",
      "1D Random Float Array:\n",
      " [0.28372422 0.55317197 0.01595683 0.59127414 0.06545062]\n"
     ]
    }
   ],
   "source": [
    "float_array = np.random.rand(5)\n",
    "print(\"\\n1D Random Float Array:\\n\",float_array)"
   ]
  },
  {
   "cell_type": "code",
   "execution_count": 64,
   "id": "9e5be79a-439c-4c57-a586-0d3b9f9a7215",
   "metadata": {},
   "outputs": [
    {
     "name": "stdout",
     "output_type": "stream",
     "text": [
      "\n",
      "2D Random Integer Array:\n",
      " [[5 5 5 6]\n",
      " [8 4 5 2]\n",
      " [4 0 4 4]]\n"
     ]
    }
   ],
   "source": [
    "result = np.random.randint(0, 10, (3,4))\n",
    "\n",
    "print(\"\\n2D Random Integer Array:\\n\",result)"
   ]
  },
  {
   "cell_type": "code",
   "execution_count": 65,
   "id": "1dee8965-61da-4304-aef1-79a3974e5aad",
   "metadata": {},
   "outputs": [
    {
     "name": "stdout",
     "output_type": "stream",
     "text": [
      "3\n"
     ]
    }
   ],
   "source": [
    "# create an array of integers from 1 to 5\n",
    "array1 = np.array([1, 2, 3, 4, 5])\n",
    "# choose a random number from array1\n",
    "random_choice = np.random.choice(array1)\n",
    "print(random_choice)"
   ]
  },
  {
   "cell_type": "code",
   "execution_count": 66,
   "id": "2e29c29d-3872-4860-819e-93a6a1629301",
   "metadata": {},
   "outputs": [
    {
     "name": "stdout",
     "output_type": "stream",
     "text": [
      "44\n"
     ]
    }
   ],
   "source": [
    "array1 = np.array([1, 3, 5])\n",
    "array2 = np.array([2, 4, 6])\n",
    "# use of dot() to perform array multiplication\n",
    "result = np.dot(array1, array2)\n",
    "print(result)"
   ]
  },
  {
   "cell_type": "code",
   "execution_count": 67,
   "id": "c5587f57-e5bb-4e92-a8c9-847e565c0dc7",
   "metadata": {},
   "outputs": [
    {
     "name": "stdout",
     "output_type": "stream",
     "text": [
      "[[14 30]\n",
      " [38 86]]\n"
     ]
    }
   ],
   "source": [
    "array1 = np.array([[1, 3], [5, 7]])\n",
    "array2 = np.array([[2, 4], [6, 8]])\n",
    "# inner() for 2D arrays\n",
    "result = np.inner(array1, array2)\n",
    "print(result)"
   ]
  },
  {
   "cell_type": "code",
   "execution_count": 68,
   "id": "9c745e0b-624d-44cb-83ac-b00d01c69da9",
   "metadata": {},
   "outputs": [
    {
     "name": "stdout",
     "output_type": "stream",
     "text": [
      "(array([1, 3, 1], dtype=int64), array([ 0, 10, 20, 30]))\n"
     ]
    },
    {
     "ename": "NameError",
     "evalue": "name 'ace' is not defined",
     "output_type": "error",
     "traceback": [
      "\u001b[1;31m---------------------------------------------------------------------------\u001b[0m",
      "\u001b[1;31mNameError\u001b[0m                                 Traceback (most recent call last)",
      "Cell \u001b[1;32mIn[68], line 7\u001b[0m\n\u001b[0;32m      5\u001b[0m graph \u001b[38;5;241m=\u001b[39m np\u001b[38;5;241m.\u001b[39mhistogram(data, \u001b[38;5;28mbin\u001b[39m)\n\u001b[0;32m      6\u001b[0m \u001b[38;5;28mprint\u001b[39m(graph)\n\u001b[1;32m----> 7\u001b[0m \u001b[43mace\u001b[49m(array1)\n\u001b[0;32m      8\u001b[0m \u001b[38;5;28mprint\u001b[39m(result)\n",
      "\u001b[1;31mNameError\u001b[0m: name 'ace' is not defined"
     ]
    }
   ],
   "source": [
    "data = np.array([5, 10, 15, 18, 20])\n",
    "# createbin to set the interval\n",
    "bin = [0,10,20,30]\n",
    "# create histgram\n",
    "graph = np.histogram(data, bin)\n",
    "print(graph)\n",
    "ace(array1)\n",
    "print(result)"
   ]
  },
  {
   "cell_type": "code",
   "execution_count": null,
   "id": "4e5bafa6-10a0-4e02-b4d5-54a3fb65c9b2",
   "metadata": {},
   "outputs": [],
   "source": []
  }
 ],
 "metadata": {
  "kernelspec": {
   "display_name": "Python 3 (ipykernel)",
   "language": "python",
   "name": "python3"
  },
  "language_info": {
   "codemirror_mode": {
    "name": "ipython",
    "version": 3
   },
   "file_extension": ".py",
   "mimetype": "text/x-python",
   "name": "python",
   "nbconvert_exporter": "python",
   "pygments_lexer": "ipython3",
   "version": "3.12.2"
  }
 },
 "nbformat": 4,
 "nbformat_minor": 5
}
